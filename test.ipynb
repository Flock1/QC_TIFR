{
 "cells": [
  {
   "cell_type": "code",
   "execution_count": 2,
   "metadata": {},
   "outputs": [],
   "source": [
    "import keras\n",
    "from keras.models import Sequential\n",
    "from keras.utils import np_utils\n",
    "from keras.models import load_model\n",
    "from keras.layers import Dense\n",
    "from keras.optimizers import Adam\n",
    "from qiskit.quantum_info import random_state\n",
    "import numpy as np\n",
    "import random\n",
    "import matplotlib\n",
    "import math\n",
    "import random\n",
    "from functions import *\n",
    "import tensorflow as tf\n",
    "import os\n",
    "import sys\n",
    "import csv\n",
    "import matplotlib.pyplot as plt"
   ]
  },
  {
   "cell_type": "code",
   "execution_count": 5,
   "metadata": {},
   "outputs": [],
   "source": [
    "class Environment:\n",
    "\n",
    "    def reset(self):\n",
    "        state = random_state(2)\n",
    "        new_state = state_norm(state)\n",
    "        new_state = np.reshape(new_state.flatten(), (1,1,2))\n",
    "        return new_state"
   ]
  },
  {
   "cell_type": "code",
   "execution_count": 7,
   "metadata": {},
   "outputs": [],
   "source": [
    "command = ['bit_flip_X(new_state)',\n",
    "           'bit_flip_Y(new_state)',\n",
    "           'hadamard_X(new_state)',\n",
    "           'hadamard_Y(new_state)',\n",
    "           'measurement(new_state[0],new_state[1])',\n",
    "           'nothing(new_state)']"
   ]
  },
  {
   "cell_type": "code",
   "execution_count": 8,
   "metadata": {},
   "outputs": [],
   "source": [
    "model_test = load_model(\"model_July_7.h5\")"
   ]
  },
  {
   "cell_type": "code",
   "execution_count": 11,
   "metadata": {},
   "outputs": [],
   "source": [
    "env = Environment()\n",
    "new_state = env.reset()\n",
    "final_state = np.array([(1/math.sqrt(2))+0j,(1/math.sqrt(2))+0j])\n",
    "count=0\n",
    "while not np.allclose(new_state,final_state):\n",
    "    if (count<=5):\n",
    "        options = model_test.predict(new_state)\n",
    "        options = np.squeeze(options)\n",
    "        action = np.where(options == np.amax(options))[0][0]\n",
    "        print(command[action].split('(')[0])\n",
    "        new_state = np.squeeze(new_state)\n",
    "        new_state = eval(command[action])\n",
    "        new_state = np.reshape(new_state, (1,1,2))\n",
    "        count+=1\n",
    "        print(count)\n",
    "    \n",
    "    else:\n",
    "        break"
   ]
  },
  {
   "cell_type": "code",
   "execution_count": null,
   "metadata": {},
   "outputs": [],
   "source": []
  }
 ],
 "metadata": {
  "kernelspec": {
   "display_name": "Python 3",
   "language": "python",
   "name": "python3"
  },
  "language_info": {
   "codemirror_mode": {
    "name": "ipython",
    "version": 3
   },
   "file_extension": ".py",
   "mimetype": "text/x-python",
   "name": "python",
   "nbconvert_exporter": "python",
   "pygments_lexer": "ipython3",
   "version": "3.6.9"
  }
 },
 "nbformat": 4,
 "nbformat_minor": 4
}
